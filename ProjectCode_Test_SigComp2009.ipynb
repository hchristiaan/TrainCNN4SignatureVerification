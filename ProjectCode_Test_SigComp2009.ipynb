{
  "nbformat": 4,
  "nbformat_minor": 0,
  "metadata": {
    "colab": {
      "name": "ProjectCode-Test-SigComp2009.ipynb",
      "version": "0.3.2",
      "provenance": [],
      "include_colab_link": true
    },
    "kernelspec": {
      "name": "python3",
      "display_name": "Python 3"
    }
  },
  "cells": [
    {
      "cell_type": "markdown",
      "metadata": {
        "id": "view-in-github",
        "colab_type": "text"
      },
      "source": [
        "<a href=\"https://colab.research.google.com/github/hchristiaan/TrainCNN4SignatureVerification/blob/master/ProjectCode_Test_SigComp2009.ipynb\" target=\"_parent\"><img src=\"https://colab.research.google.com/assets/colab-badge.svg\" alt=\"Open In Colab\"/></a>"
      ]
    },
    {
      "cell_type": "code",
      "metadata": {
        "id": "rVHF4xXoyc9s",
        "colab_type": "code",
        "colab": {}
      },
      "source": [
        "import os\n",
        "import numpy as np\n",
        "import matplotlib.pyplot as plt\n",
        "import cv2\n",
        "\n",
        "import keras\n",
        "import keras.backend as K\n",
        "import tensorflow as tf\n",
        "from keras import applications\n",
        "from keras.models import Model\n",
        "from keras.layers import Flatten, Dense, Input,concatenate\n",
        "from keras.optimizers import Adam\n",
        "from keras.models import load_model, model_from_json\n",
        "\n",
        "import random"
      ],
      "execution_count": 0,
      "outputs": []
    },
    {
      "cell_type": "code",
      "metadata": {
        "id": "KOcMN8o3yhmi",
        "colab_type": "code",
        "colab": {}
      },
      "source": [
        "from google.colab import drive\n",
        "drive.mount('/content/drive')"
      ],
      "execution_count": 0,
      "outputs": []
    },
    {
      "cell_type": "code",
      "metadata": {
        "id": "abrWLuYiyiAk",
        "colab_type": "code",
        "colab": {}
      },
      "source": [
        "!ls '/content/drive/Team Drives/inputdataset'\n",
        "!unzip '/content/drive/Team Drives/inputdataset/input.zip' -d /content"
      ],
      "execution_count": 0,
      "outputs": []
    },
    {
      "cell_type": "code",
      "metadata": {
        "id": "KFwwOf4qyjxO",
        "colab_type": "code",
        "colab": {}
      },
      "source": [
        "gentr=\"/content/sigcomp-2009-train/genuine\"\n",
        "forgtr=\"/content/sigcomp-2009-train/forgeries\"\n",
        "\n",
        "gent=\"/content/sigcomp-2009/genuines\"\n",
        "forgt=\"/content/sigcomp-2009/forgeries\""
      ],
      "execution_count": 0,
      "outputs": []
    },
    {
      "cell_type": "code",
      "metadata": {
        "id": "zT0PZOypyqFQ",
        "colab_type": "code",
        "colab": {}
      },
      "source": [
        "img_width, img_height, channels = 224, 224, 3\n",
        "\n",
        "dim = (img_width, img_height)\n",
        "\n",
        "def to_rgb(img):\n",
        "    img = cv2.resize(img, dim, interpolation = cv2.INTER_AREA) \n",
        "    img_rgb = np.asarray(np.dstack((img, img, img)), dtype=np.uint8)\n",
        "    return img_rgb\n",
        "\n",
        "def returnimages(path,img):\n",
        "    image=cv2.imread(path+\"/\"+ img)                  #bringing the image\n",
        "    image=cv2.resize(image, (img_width, img_height))\n",
        "    image=cv2.cvtColor(image, cv2.COLOR_BGR2GRAY)\n",
        "    image=to_rgb(image).reshape(1,img_width, img_height,3)/255.0       #resizing and normalizing    \n",
        "    return image     \n",
        "\n",
        "def getfiles(num,gen,forg):\n",
        "    a=os.listdir(gen)\n",
        "    b=os.listdir(forg)\n",
        "    c=str(num)\n",
        "    c=c[2:]\n",
        "    if(len(c)==2):\n",
        "        c=c+\"0\"\n",
        "    \n",
        "    n,m=[],[]\n",
        "    for i in b:\n",
        "        if i.endswith(c+\".png\"):\n",
        "            n=n+[i]\n",
        "        elif i.endswith(c+\".PNG\"):\n",
        "            n=n+[i]\n",
        "    for i in a:\n",
        "        if i.endswith(c+\".png\"):\n",
        "            m=m+[i]\n",
        "        elif i.endswith(c+\".PNG\"):\n",
        "            m=m+[i]\n",
        "    return m.pop(),n,m\n",
        "\n",
        "def getfiles2(num):\n",
        "    a=os.listdir(gentr)\n",
        "    b=os.listdir(forgtr)\n",
        "    c=str(num)\n",
        "    c=c[2:]\n",
        "    if(len(c)==2):\n",
        "        c=c+\"0\"\n",
        "    n,m=[],[]\n",
        "    for i in b:\n",
        "        if (i.endswith(c+\"_001_6g.png\") or i.endswith(c+\"_002_6g.png\") or i.endswith(c+\"_003_6g.png\")\n",
        "            or i.endswith(c+\"_004_6g.png\") or i.endswith(c+\"_005_6g.png\")):\n",
        "            n=n+[i]\n",
        "        elif (i.endswith(c+\"_001_6g.PNG\") or i.endswith(c+\"_002_6g.PNG\") or i.endswith(c+\"_003_6g.PNG\")\n",
        "              or i.endswith(c+\"_004_6g.PNG\") or i.endswith(c+\"_005_6g.PNG\")):\n",
        "            n=n+[i]\n",
        "    for i in a:\n",
        "        if (i.endswith(c+\"_001_6g.png\") or i.endswith(c+\"_002_6g.png\") or i.endswith(c+\"_003_6g.png\")\n",
        "            or i.endswith(c+\"_004_6g.png\") or i.endswith(c+\"_005_6g.png\")):\n",
        "            m=m+[i]\n",
        "        elif (i.endswith(c+\"_001_6g.PNG\") or i.endswith(c+\"_002_6g.PNG\") or i.endswith(c+\"_003_6g.PNG\")\n",
        "              or i.endswith(c+\"_004_6g.PNG\") or i.endswith(c+\"_005_6g.PNG\")):\n",
        "            m=m+[i]\n",
        "    return m.pop(),n,m"
      ],
      "execution_count": 0,
      "outputs": []
    },
    {
      "cell_type": "code",
      "metadata": {
        "id": "u1M68mkTytKU",
        "colab_type": "code",
        "colab": {}
      },
      "source": [
        "def triplet_loss(y_true, y_pred):\n",
        "    alpha = 0.5\n",
        "    anchor, positive, negative =y_pred[0,0:512], y_pred[0,512:1024], y_pred[0,1024:1536]\n",
        "    \n",
        "    positive_distance = K.mean(K.square(anchor - positive),axis=-1)\n",
        "    negative_distance = K.mean(K.square(anchor - negative),axis=-1)\n",
        "    return K.mean(K.maximum(0.0, positive_distance - negative_distance + alpha))"
      ],
      "execution_count": 0,
      "outputs": []
    },
    {
      "cell_type": "code",
      "metadata": {
        "id": "eZASoQw-yw-o",
        "colab_type": "code",
        "colab": {}
      },
      "source": [
        ""
      ],
      "execution_count": 0,
      "outputs": []
    },
    {
      "cell_type": "code",
      "metadata": {
        "id": "80lEbSctywH6",
        "colab_type": "code",
        "colab": {}
      },
      "source": [
        "def generator():\n",
        "    for i in range(1,31):\n",
        "        if(i<10):\n",
        "            anc,neg,pos=getfiles(float(\"0.00\"+str(i)),gen,forg)\n",
        "        else:\n",
        "            anc,neg,pos=getfiles(float(\"0.0\"+str(i)),gen,forg)\n",
        "        for i in range(len(neg)):\n",
        "            for j in range(len(pos)):\n",
        "                anchor=returnimages(gen,anc)\n",
        "                positive=returnimages(gen,pos[j])\n",
        "                negative=returnimages(forg,neg[i])\n",
        "               # yield ([anc,pos[j],neg[i]],[0])\n",
        "                yield ([anchor,positive,negative],[0])"
      ],
      "execution_count": 0,
      "outputs": []
    },
    {
      "cell_type": "code",
      "metadata": {
        "id": "o6krY4fhyzNE",
        "colab_type": "code",
        "colab": {}
      },
      "source": [
        "for x in range(2):\n",
        "    model.fit_generator(generator(),steps_per_epoch=200,epochs=3)"
      ],
      "execution_count": 0,
      "outputs": []
    },
    {
      "cell_type": "code",
      "metadata": {
        "id": "UyoXuSmly1az",
        "colab_type": "code",
        "colab": {}
      },
      "source": [
        "model.compile(optimizer=Adam(lr=0.000002),loss=triplet_loss)"
      ],
      "execution_count": 0,
      "outputs": []
    },
    {
      "cell_type": "code",
      "metadata": {
        "id": "Y3_aCH1Ny2W9",
        "colab_type": "code",
        "colab": {}
      },
      "source": [
        "def generator2():\n",
        "    x=[\"0.001\",\"0.004\", \"0.005\", \"0.006\", \"0.007\",\n",
        "       \"0.008\", \"0.009\", \"0.010\", \"0.011\", \"0.001\", \"0.010\"]\n",
        "  #  x=[\"0.001\", \"0.004\", \"0.006\", \"0.010\"]\n",
        "\n",
        "    for k in x:\n",
        "        anc,neg,pos=getfiles2(k)\n",
        "        frac=0.95    \n",
        "        inds = set(random.sample(list(range(len(neg))), int(frac*len(neg))))\n",
        "        neg = [n for i,n in enumerate(neg) if i not in inds]\n",
        "    \n",
        "        for i in range(len(neg)):\n",
        "            for j in range(len(pos)):\n",
        "                anchor=returnimages(gentr,anc)\n",
        "                positive=returnimages(gentr,pos[j])\n",
        "                negative=returnimages(forgtr,neg[i])\n",
        "               # yield ([anc,pos[j],neg[i]])\n",
        "                yield ([anchor,positive,negative],[0])"
      ],
      "execution_count": 0,
      "outputs": []
    },
    {
      "cell_type": "code",
      "metadata": {
        "id": "8hDBowPAy4Zw",
        "colab_type": "code",
        "colab": {}
      },
      "source": [
        "for x in range(2):\n",
        "    model.fit_generator(generator2(),steps_per_epoch=32,epochs=11)"
      ],
      "execution_count": 0,
      "outputs": []
    },
    {
      "cell_type": "code",
      "metadata": {
        "id": "wZxen7Zfy6V8",
        "colab_type": "code",
        "colab": {}
      },
      "source": [
        "tneg,tpos=0,0\n",
        "x=[0.002, 0.008, 0.016, 0.018, 0.024, 0.033, 0.035, 0.044, 0.046, 0.063,\n",
        "   0.070, 0.071, 0.077, 0.084, 0.085, 0.086, 0.089, 0.092, 0.093]\n",
        "for k in x: #the id of signatures you want to check\n",
        "    #print(\"When k is \", k)\n",
        "    anc,neg,pos=getfiles(k,gent,forgt)\n",
        "    tneg=tneg+len(neg)\n",
        "    tpos=tpos+len(pos)\n",
        "print(tneg,tpos)"
      ],
      "execution_count": 0,
      "outputs": []
    },
    {
      "cell_type": "code",
      "metadata": {
        "id": "N4oVb_gqy8am",
        "colab_type": "code",
        "colab": {}
      },
      "source": [
        "model.save_weights('model_weights.h5')"
      ],
      "execution_count": 0,
      "outputs": []
    },
    {
      "cell_type": "code",
      "metadata": {
        "id": "6GlptQfVy_HM",
        "colab_type": "code",
        "colab": {}
      },
      "source": [
        "forg_passed=0\n",
        "gen_flagged=0\n",
        "x=[0.002, 0.008, 0.016, 0.018, 0.024, 0.033, 0.035, 0.044, 0.046, 0.063,\n",
        "   0.070, 0.071, 0.077, 0.084, 0.085, 0.086, 0.089, 0.092, 0.093]\n",
        "\n",
        "for k in x: #the id of signatures you want to check\n",
        "    print(\"When k is \", k)\n",
        "    anc,neg,pos=getfiles(k,gent,forgt)\n",
        "    \n",
        "    anchor=returnimages(gent,anc)\n",
        "    for i in range(len(pos)): #pos\n",
        "        positive=returnimages(gent,pos[i])\n",
        "        x=model.predict([anchor,positive,anchor])\n",
        "        a, p, useless = x[0,0:512], x[0,512:1024], x[0,1024:1536]\n",
        "        #dist=sum(a-p)\n",
        "        dist=np.linalg.norm(a-p)\n",
        "        #print(\"positive distance is \",dist)\n",
        "        if(dist>32):\n",
        "        #  print(\"0\")\n",
        "            gen_flagged=gen_flagged+1\n",
        "            print(\"gen flagged - \",dist, \"file name is - \", pos[i])\n",
        "            \n",
        "        else:\n",
        "            gen_flagged=gen_flagged\n",
        "        #   print(\"1\")\n",
        "        \n",
        "    for j in range(len(neg)): #neg\n",
        "        negative=returnimages(forgt,neg[j])\n",
        "        x=model.predict([anchor,negative,anchor])\n",
        "        a, n, useless = x[0,0:512], x[0,512:1024], x[0,1024:1536]\n",
        "        #dist=sum(a-n)\n",
        "        dist=np.linalg.norm(a-n)\n",
        "        #print(\"negative distance is \",dist)\n",
        "        if(dist>32):\n",
        "            forg_passed=forg_passed\n",
        "          #  print(\"0\")\n",
        "        else:\n",
        "            forg_passed=forg_passed+1\n",
        "            print(\"forg passed - \",dist, \"file name is - \", neg[j])\n",
        "          #  print(\"1\")\n",
        "\n",
        "print(\"forg_passed is \",forg_passed)\n",
        "print(\"gen_flagged is \",gen_flagged)"
      ],
      "execution_count": 0,
      "outputs": []
    },
    {
      "cell_type": "code",
      "metadata": {
        "id": "Fqak0lF2y_wg",
        "colab_type": "code",
        "colab": {}
      },
      "source": [
        "def getfilest(num,gen,forg):\n",
        "    a=os.listdir(gen)\n",
        "    b=os.listdir(forg)\n",
        "    c=str(num)\n",
        "    c=c[2:]\n",
        "    if(len(c)==2):\n",
        "        c=c+\"0\"\n",
        "    \n",
        "    n,m=[],[]\n",
        "    for i in b:\n",
        "        if i.endswith(c+\".png\"):\n",
        "            n=n+[i]\n",
        "        elif i.endswith(c+\".PNG\"):\n",
        "            n=n+[i]\n",
        "    for i in a:\n",
        "        if i.endswith(c+\".png\"):\n",
        "            m=m+[i]\n",
        "        elif i.endswith(c+\".PNG\"):\n",
        "            m=m+[i]\n",
        "    return m.pop(),m.pop(),n,m"
      ],
      "execution_count": 0,
      "outputs": []
    },
    {
      "cell_type": "code",
      "metadata": {
        "id": "_Wc6OEtXzC36",
        "colab_type": "code",
        "colab": {}
      },
      "source": [
        "forg_passed=0\n",
        "gen_flagged=0\n",
        "x=[0.002, 0.008, 0.016, 0.018, 0.024, 0.033, 0.035, 0.044, 0.046, 0.063,\n",
        "   0.070, 0.071, 0.077, 0.084, 0.085, 0.086, 0.089, 0.092, 0.093]\n",
        "\n",
        "for k in x: #the id of signatures you want to check\n",
        "    print(\"When k is \", k)\n",
        "    anc1,anc2,neg,pos=getfilest(k,gent,forgt)\n",
        "    \n",
        "    anchor1=returnimages(gent,anc1)\n",
        "    anchor2=returnimages(gent,anc2)\n",
        "    for i in range(len(pos)): #pos\n",
        "        positive=returnimages(gent,pos[i])\n",
        "        x=model.predict([anchor1,positive,anchor2])\n",
        "        a1, p, a2 = x[0,0:512], x[0,512:1024], x[0,1024:1536]\n",
        "        #dist=sum(a-p)\n",
        "        dist1=np.linalg.norm(a1-p)\n",
        "        dist2=np.linalg.norm(a2-p)\n",
        "        dist=(dist1+dist2)/2\n",
        "        #print(\"positive distance is \",dist)\n",
        "        if(dist>32):\n",
        "        #  print(\"0\")\n",
        "            gen_flagged=gen_flagged+1\n",
        "            print(\"gen flagged - \",dist, \"file name is - \", pos[i])\n",
        "            \n",
        "        else:\n",
        "            gen_flagged=gen_flagged\n",
        "        #   print(\"1\")\n",
        "        \n",
        "    for j in range(len(neg)): #neg\n",
        "        negative=returnimages(forgt,neg[j])\n",
        "        x=model.predict([anchor1,negative,anchor2])\n",
        "        a1, n, a2 = x[0,0:512], x[0,512:1024], x[0,1024:1536]\n",
        "        #dist=sum(a-n)\n",
        "        dist1=np.linalg.norm(a1-n)\n",
        "        dist2=np.linalg.norm(a2-n)\n",
        "        #print(\"negative distance is \",dist)\n",
        "        dist=(dist1+dist2)/2\n",
        "        if(dist>32):\n",
        "            forg_passed=forg_passed\n",
        "          #  print(\"0\")\n",
        "        else:\n",
        "            forg_passed=forg_passed+1\n",
        "            print(\"forg passed - \",dist, \"file name is - \", neg[j])\n",
        "          #  print(\"1\")\n",
        "\n",
        "print(\"forg_passed is \",forg_passed)\n",
        "print(\"gen_flagged is \",gen_flagged)"
      ],
      "execution_count": 0,
      "outputs": []
    }
  ]
}